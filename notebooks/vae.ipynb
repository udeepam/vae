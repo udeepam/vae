{
 "cells": [
  {
   "cell_type": "markdown",
   "metadata": {},
   "source": [
    "# VAE: Theory"
   ]
  },
  {
   "cell_type": "markdown",
   "metadata": {},
   "source": [
    "**Notation**\n",
    "* Observed variables $\\mathbf{x}\\in\\mathcal{X}$.\n",
    "* Unobserved variables $\\mathbf{z}\\in\\mathbb{R}^{k}$.\n",
    "* Dataset $\\mathcal{D}=\\{\\mathbf{x}_i\\}^{n}_{i=1}$\n",
    "\n",
    "### ELBO\n",
    "The marginal log-likelihood of the whole dataset $\\mathcal{D}$ is given as\n",
    "$$\\log p_\\theta(\\mathbf{x}_1,...,\\mathbf{x}_n)=\\log\\prod^{n}_{i=1}p_\\theta(\\mathbf{x}_i)=\\sum^{n}_{i=1}\\log p_\\theta(\\mathbf{x}_i)$$\n",
    "We write the evidence lower bound for each data point $\\mathbf{x}_i$ as \n",
    "$$ \\log p_\\theta(\\mathbf{x}_i)\\geq \\mathcal{L}(\\mathbf{x}_i,\\theta,\\phi) = \\underbrace{\\mathbb{E}_{q_\\phi(\\mathbf{z}_i\\mid\\mathbf{x}_i)}\\Big[\\log p_\\theta(\\mathbf{x}_i\\mid\\mathbf{z}_i)\\Big]}_{\\text{reconstruction error}}-\\underbrace{KL\\Big(q_\\phi(\\mathbf{z}_i\\mid\\mathbf{x}_i)||p_\\theta(\\mathbf{z}_i)\\Big)}_{\\text{regularisation}}$$\n",
    "where \n",
    "* $\\theta$ are the parameters of the generative model or **decoder** $p_\\theta(\\mathbf{x}\\mid \\mathbf{z})$.\n",
    "* $\\phi$ are the variational parameters of the variational distribution $q_\\phi(\\mathbf{z}\\mid\\mathbf{x})$, also called the recognition model or **encoder**.\n",
    "\n",
    "These two terms have interesting interpretations:\n",
    "* **Reconstruction error:** is the log-likelihood of observed $\\mathbf{x}_i$ given the code $\\mathbf{z}_i$ that we have sampled $\\mathbf{z}_i\\sim q_\\phi(\\mathbf{z}_i\\mid\\mathbf{x}_i)$. This term is maximised when $p_\\theta(\\mathbf{x}_i\\mid\\mathbf{z}_i)$ assigns high probability to the original $\\mathbf{x}_i$. It is trying to reconstruct $\\mathbf{x}_i$ from $\\mathbf{z}_i$.\n",
    "\n",
    "* **Regularisation:** KL divergence between $q_\\phi(\\mathbf{z}_i\\mid\\mathbf{x}_i)$ and prior $p_\\theta(\\mathbf{z}_i)$. It can be interpretted as regularising $\\phi$ by encouraging the approximate posterior $q_\\phi(\\mathbf{z}_i\\mid\\mathbf{x}_i)$ to be close to the prior $p_\\theta(\\mathbf{z}_i)$. This prevents $q_\\phi(\\mathbf{z}_i\\mid\\mathbf{x}_i)$ from simply encoding an identity mapping and instead forces it to learn some more interesting representations.\n",
    "\n",
    "### Model\n",
    "\n",
    "For our task of using the MNIST dataset where $\\mathbf{x}_i\\in[0,1]^{784}$, the VAE has the following parameterisations\n",
    "* The prior over the latent variables as a multivariate standard normal.\n",
    "$$p_\\theta(\\mathbf{z})=\\mathcal{N}\\Big(\\mathbf{z};\\mathbf{0},\\mathbf{I}_k\\Big)$$\n",
    "\n",
    "* The true posterior distribution as an independent Bernoulli for each element $x_j$ of $\\mathbf{x}$ (for binary data)$$p_\\theta(x_j\\mid\\mathbf{z})=\\text{Ber}\\Big(\\mu_\\theta(\\mathbf{z})\\Big)$$\n",
    "\n",
    "* The variational approximate posterior as a multivariate Gaussian\n",
    "$$q_\\phi(\\mathbf{z}\\mid \\mathbf{x})=\\mathcal{N}\\bigg(\\mathbf{z};\\boldsymbol{\\mu}_\\phi(\\mathbf{x}), \\boldsymbol{\\Sigma}_\\phi(\\mathbf{x})\\bigg)$$\n",
    "where $\\boldsymbol{\\mu}_\\phi(\\mathbf{x})\\in\\mathbb{R}^{k}$ and $\\boldsymbol{\\Sigma}_\\phi(\\mathbf{x})=\\text{diag}\\big(\\boldsymbol{\\sigma}_\\phi^{2}(\\mathbf{x})\\big)\\in\\mathbb{R}^{k\\times k}$ are parameterised by neural networks with parameters $\\phi$.\n",
    "\n",
    "### Loss Function\n",
    "\n",
    "By using the **reparameterisation trick** and the specific parameterisation of the distributions given above, the loss function for this model over the whole dataset which we would like to **minimise** is\n",
    "$$\\mathcal{L}(\\mathbf{x},\\theta,\\phi)\\approx \\frac{1}{n}\\sum^{n}_{i=1}\\Bigg[\\frac{1}{2}\\sum^{k}_{j=1}\\Big[\\mu^{2}_{\\phi,j}(\\mathbf{x}_i)+\\sigma^{2}_{\\phi,j}(\\mathbf{x}_i)-\\log\\sigma^{2}_{\\phi,j}(\\mathbf{x}_i)-1\\Big]-\\frac{1}{L}\\sum^{L}_{l=1}\\Big[\\log p_\\theta(\\mathbf{x}_i\\mid\\mathbf{z}_{i,l})\\Big]\\Bigg]$$\n",
    "\n",
    "where $\\mathbf{z}_{i,l}=g_\\phi\\Big(\\mathbf{x}_i,\\boldsymbol{\\epsilon}_{i,l}\\Big)=\\boldsymbol{\\mu}_{\\phi}(\\mathbf{x}_i)+\\boldsymbol{\\sigma}_{\\phi}(\\mathbf{x}_i)\\odot \\boldsymbol{\\epsilon}_{i,l}$ and $\\boldsymbol{\\epsilon}_{i,l}\\sim\\mathcal{N}(\\mathbf{0},\\mathbf{I}_k)$. $L$ is the number of samples to use for the Monte Carlo estimator of the reconstruction error. In practice, we use mini-batches and $L=1$.\n",
    "\n",
    "By using our parameterisation of the decoder $p_\\theta(\\mathbf{x}\\mid\\mathbf{z})$ as a indepenedent Bernoulli we have that \n",
    "$$-\\log p(\\mathbf{x}\\mid \\mathbf{z})=-\\sum^{}_{i=1}\\mathbf{x}_i\\log \\hat{\\mathbf{x}}_i + (1-\\mathbf{x}_i)\\log(1-\\hat{\\mathbf{x}}_i)$$\n",
    "i.e. this is the Binary Cross Entropy loss.\n",
    "\n",
    "### Challenges\n",
    "\n",
    "### References\n",
    "Original VAE paper: https://arxiv.org/abs/1312.6114<br>\n",
    "CS228 notes: https://ermongroup.github.io/cs228-notes/<br>\n",
    "Yuge Shi blog: https://yugeten.github.io/posts/2020/06/elbo/ <br>\n",
    "Tutorial paper: https://arxiv.org/abs/1906.02691<br>\n",
    "CS236 notes: https://deepgenerativemodels.github.io/notes/<br>\n",
    "Lilian Weng blog: https://lilianweng.github.io/lil-log/2018/08/12/from-autoencoder-to-beta-vae.html\n"
   ]
  },
  {
   "cell_type": "markdown",
   "metadata": {},
   "source": [
    "# VAE: Code"
   ]
  },
  {
   "cell_type": "markdown",
   "metadata": {},
   "source": [
    "PyTorch-VAE: https://github.com/AntixK/PyTorch-VAE<br>\n",
    "https://github.com/ethanluoyc/pytorch-vae"
   ]
  },
  {
   "cell_type": "code",
   "execution_count": 1,
   "metadata": {},
   "outputs": [],
   "source": [
    "from __future__ import absolute_import\n",
    "from __future__ import division\n",
    "from __future__ import print_function\n",
    "\n",
    "import numpy as np\n",
    "import matplotlib.pyplot as plt\n",
    "import time\n",
    "from collections import defaultdict\n",
    "\n",
    "import torch\n",
    "import torch.nn as nn\n",
    "from torch.nn import functional as F\n",
    "import torch.utils.data as data_utils\n",
    "\n",
    "# Device Config\n",
    "device = torch.device(\"cuda\" if torch.cuda.is_available() else \"cpu\")\n",
    "\n",
    "# Fix random seeds for reproducibility\n",
    "seed = 73\n",
    "torch.manual_seed(seed)\n",
    "np.random.seed(seed)"
   ]
  },
  {
   "cell_type": "markdown",
   "metadata": {},
   "source": [
    "## Load MNIST Dataset"
   ]
  },
  {
   "cell_type": "code",
   "execution_count": 2,
   "metadata": {},
   "outputs": [],
   "source": [
    "# import torchvision\n",
    "# from torchvision import transforms\n",
    "# from torchvision.datasets import MNIST\n",
    "# # 60000 tuples with 1x28x28 image and corresponding label\n",
    "# data = MNIST('../data', \n",
    "#              train=True, \n",
    "#              download=True,\n",
    "#              transform = transforms.Compose([transforms.ToTensor()]))\n",
    "# # Split data into images and labels\n",
    "# x_train = data.train_data\n",
    "# y_train = data.train_labels\n",
    "# # Scale images from [0,255] to [0,+1]\n",
    "# x_train = x_train.float() / 255\n",
    "# # Save as .npz\n",
    "# np.savez_compressed('../data/mnist', \n",
    "#                     a=x_train,\n",
    "#                     b=y_train)"
   ]
  },
  {
   "cell_type": "code",
   "execution_count": 3,
   "metadata": {},
   "outputs": [],
   "source": [
    "# Load MNIST data locally\n",
    "data = np.load('../data/mnist.npz')\n",
    "x_train = torch.Tensor(data['a'])\n",
    "y_train = torch.Tensor(data['b'])"
   ]
  },
  {
   "cell_type": "code",
   "execution_count": 4,
   "metadata": {},
   "outputs": [
    {
     "data": {
      "image/png": "[encoded data removed]",
      "text/plain": [
       "<Figure size 2520x2520 with 4 Axes>"
      ]
     },
     "metadata": {
      "needs_background": "light"
     },
     "output_type": "display_data"
    }
   ],
   "source": [
    "# Visualise data\n",
    "plt.rcParams.update({'font.size': 16})\n",
    "fig, axes = plt.subplots(1,4, figsize=(35,35))\n",
    "imx, imy = (28,28)\n",
    "labels   = [0,1,2,3]\n",
    "for i, ax in enumerate(axes):\n",
    "    visual = np.reshape(x_train[labels[i]], (imx,imy))\n",
    "    ax.set_title(\"Example Data Image, y=\"+str(int(y_train[labels[i]])))\n",
    "    ax.imshow(visual, vmin=0, vmax=1)\n",
    "plt.show()"
   ]
  },
  {
   "cell_type": "markdown",
   "metadata": {},
   "source": [
    "## Models"
   ]
  },
  {
   "cell_type": "code",
   "execution_count": 5,
   "metadata": {},
   "outputs": [],
   "source": [
    "class VanillaVAE(nn.Module):\n",
    "    def __init__(self, input_shape, z_dim):\n",
    "        \"\"\"\n",
    "        Vanilla VAE Model.\n",
    "        \n",
    "        Arguments:\n",
    "        ----------\n",
    "        input_shape : `int`\n",
    "            Flattened size of image. (Default=784)\n",
    "        z_dim : `int`\n",
    "            The dimension of the latent variable z. (Default=20)\n",
    "        \"\"\"        \n",
    "        super(VanillaVAE, self).__init__()\n",
    "        self.input_shape = input_shape\n",
    "        self.z_dim  = z_dim\n",
    "        \n",
    "        # build encoder\n",
    "        self.encoder = nn.Sequential(nn.Linear(input_shape, 400),\n",
    "                                     nn.ReLU(inplace=True))  \n",
    "        self.fc_mu = nn.Linear(400, self.z_dim) \n",
    "        self.fc_log_var = nn.Linear(400, self.z_dim)\n",
    "        \n",
    "        # build decoder\n",
    "        self.decoder = nn.Sequential(nn.Linear(self.z_dim, 400),\n",
    "                                     nn.ReLU(inplace=True),\n",
    "                                     nn.Linear(400, input_shape))          \n",
    "\n",
    "    def encode(self, x):\n",
    "        \"\"\"\n",
    "        x : [batch_size,784]\n",
    "        \"\"\"\n",
    "        x = self.encoder(x)\n",
    "        return self.fc_mu(x), self.fc_log_var(x)\n",
    "    \n",
    "    def decode(self, z):\n",
    "        \"\"\"\n",
    "        z : [batch_size,z_dim]\n",
    "        \"\"\"        \n",
    "        return torch.sigmoid(self.decoder(z))\n",
    "    \n",
    "    def reparameterise(self, mu, log_var):\n",
    "        \"\"\"\n",
    "        mu : [batch_size,z_dim]\n",
    "        log_var : [batch_size,z_dim]        \n",
    "        \"\"\"        \n",
    "        # get standard deviation\n",
    "        std = torch.exp(0.5*log_var)\n",
    "        # get epsilon from standard normal\n",
    "        eps = torch.randn_like(std)\n",
    "        return mu + std*eps\n",
    "    \n",
    "    def forward(self, x):\n",
    "        \"\"\"\n",
    "        Forward pass \n",
    "        \n",
    "        Parameters:\n",
    "        -----------\n",
    "        x : [batch_size,28,28]\n",
    "        \"\"\"\n",
    "        # flattent image\n",
    "        x_flat = x.view(x.size(0), -1)\n",
    "        mu, log_var = self.encode(x_flat)\n",
    "        z = self.reparameterise(mu, log_var)\n",
    "        return self.decode(z), mu, log_var"
   ]
  },
  {
   "cell_type": "markdown",
   "metadata": {},
   "source": [
    "## Training"
   ]
  },
  {
   "cell_type": "code",
   "execution_count": 6,
   "metadata": {},
   "outputs": [],
   "source": [
    "# Hyperparameters\n",
    "z_dim  = 20\n",
    "epochs = 200\n",
    "batch_size = 128\n",
    "learning_rate = 1e-3"
   ]
  },
  {
   "cell_type": "code",
   "execution_count": 7,
   "metadata": {},
   "outputs": [
    {
     "name": "stdout",
     "output_type": "stream",
     "text": [
      "Device:  cpu\n",
      "VanillaVAE(\n",
      "  (encoder): Sequential(\n",
      "    (0): Linear(in_features=784, out_features=400, bias=True)\n",
      "    (1): ReLU(inplace=True)\n",
      "  )\n",
      "  (fc_mu): Linear(in_features=400, out_features=20, bias=True)\n",
      "  (fc_log_var): Linear(in_features=400, out_features=20, bias=True)\n",
      "  (decoder): Sequential(\n",
      "    (0): Linear(in_features=20, out_features=400, bias=True)\n",
      "    (1): ReLU(inplace=True)\n",
      "    (2): Linear(in_features=400, out_features=784, bias=True)\n",
      "  )\n",
      ")\n"
     ]
    }
   ],
   "source": [
    "# Create DatatLoader \n",
    "dataset    = data_utils.TensorDataset(x_train, y_train)\n",
    "dataloader = torch.utils.data.DataLoader(dataset,\n",
    "                                         batch_size=batch_size,\n",
    "                                         shuffle=True)\n",
    "\n",
    "# Loss function: Binary Cross Entropy Loss (BCE) + KL divergence\n",
    "def loss_function(recon_x, x, mu, log_var):\n",
    "    \"\"\"\n",
    "    Returns loss (mean)\n",
    "    \n",
    "    recon_x : [batch_size,784]\n",
    "    x : [batch_size,28,28]    \n",
    "    mu : [batch_size,z_dim]  \n",
    "    log_var: [batch_size,z_dim] \n",
    "    \"\"\"   \n",
    "    BCE = F.binary_cross_entropy(recon_x, x.view(x.size(0), -1), reduction='sum')\n",
    "    KL  = 0.5 * torch.sum(mu.pow(2) + log_var.exp() - log_var - 1)\n",
    "    return (KL + BCE) / x.size(0)\n",
    "\n",
    "# Initialize VAE\n",
    "vae = VanillaVAE(np.prod(x_train[0].shape), z_dim)\n",
    "\n",
    "# Optimisers\n",
    "optimiser = torch.optim.Adam(vae.parameters(), lr=learning_rate)\n",
    "\n",
    "# Send to GPU if available\n",
    "vae.to(device)\n",
    "\n",
    "print(\"Device: \", device)\n",
    "print(vae)"
   ]
  },
  {
   "cell_type": "code",
   "execution_count": 8,
   "metadata": {},
   "outputs": [
    {
     "name": "stdout",
     "output_type": "stream",
     "text": [
      "Epoch: 1/200... Loss: 165.3149... Time Taken: 6.4759 seconds\n",
      "Total Time Taken: 6.4765 seconds\n"
     ]
    }
   ],
   "source": [
    "# Training\n",
    "measures = defaultdict(list)\n",
    "start_time = time.time()\n",
    "for epoch in range(epochs):\n",
    "    epoch_start_time = time.time()\n",
    "    \n",
    "    # put VAE into train mode \n",
    "    vae.train()       \n",
    "    \n",
    "    batch_loss = 0\n",
    "    for _, (X,_) in enumerate(dataloader): \n",
    "        X = X.to(device)\n",
    "            \n",
    "        # Zero accumulated gradients\n",
    "        vae.zero_grad()\n",
    "        \n",
    "        # forward pass through VAE\n",
    "        recon_batch, mu, log_var = vae(X)\n",
    "        \n",
    "        # Calculate loss\n",
    "        loss = loss_function(recon_batch, X, mu, log_var)\n",
    "        # Backpropogation: calculating gradients\n",
    "        loss.backward()\n",
    "        # Update parameters of generator\n",
    "        optimiser.step()  \n",
    "        \n",
    "        # Save loss per batch\n",
    "        batch_loss += loss.item()*X.size(0)                  \n",
    "           \n",
    "    # Save losses per epoch\n",
    "    measures['total_loss'].append(batch_loss / len(dataloader.dataset))    \n",
    "    \n",
    "    print(\"Epoch: {}/{}...\".format(epoch+1, epochs),\n",
    "          \"Loss: {:.4f}...\".format(measures['total_loss'][-1]),\n",
    "          \"Time Taken: {:,.4f} seconds\".format(time.time()-epoch_start_time))\n",
    "    \n",
    "    break\n",
    "    \n",
    "print(\"Total Time Taken: {:,.4f} seconds\".format(time.time()-start_time))"
   ]
  },
  {
   "cell_type": "markdown",
   "metadata": {},
   "source": [
    "## Results"
   ]
  },
  {
   "cell_type": "code",
   "execution_count": 9,
   "metadata": {},
   "outputs": [],
   "source": [
    "#     # Save images produced every epoch\n",
    "#     if epoch==0 or (epoch+1)%4==0:\n",
    "#         indices = np.random.randint(0,X.size(0),n_classes)\n",
    "#         measures['images'].append(gen_X[indices].detach().cpu().numpy())  \n",
    "\n",
    "# # Plot images generated by decoder\n",
    "# plt.rcParams.update({'font.size': 10})\n",
    "# imx, imy = (28,28)\n",
    "# for i, imgs in enumerate(measures['images']):\n",
    "#     fig, axs = plt.subplots(1, n_classes, figsize=(20,2)) \n",
    "#     for j, img in enumerate(imgs):\n",
    "#         visual = np.reshape(img, (imx,imy))\n",
    "#         axs[j].imshow(visual)\n",
    "#         axs[j].axis('off')\n",
    "#     label = i+1 if i==0 else 4*i\n",
    "#     plt.suptitle('Images after epoch: %s' %label)\n",
    "#     plt.show()"
   ]
  }
 ],
 "metadata": {
  "kernelspec": {
   "display_name": "Python 3",
   "language": "python",
   "name": "python3"
  },
  "language_info": {
   "codemirror_mode": {
    "name": "ipython",
    "version": 3
   },
   "file_extension": ".py",
   "mimetype": "text/x-python",
   "name": "python",
   "nbconvert_exporter": "python",
   "pygments_lexer": "ipython3",
   "version": "3.6.8"
  }
 },
 "nbformat": 4,
 "nbformat_minor": 4
}
